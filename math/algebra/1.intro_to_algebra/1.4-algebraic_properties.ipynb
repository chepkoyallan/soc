{
 "cells": [
  {
   "cell_type": "markdown",
   "metadata": {},
   "source": [
    "# What are algebraic properties\n",
    "***\n",
    "* **Postulates, or Axioms**, are statements that are accepted as true\n",
    "* we call such postulates **Algebraic Properties or Math Properties.**\n",
    "\n",
    "# The nine algebraic properties\n",
    "***\n",
    "* Distributive Property\n",
    "* Commutative Property\n",
    "* Associative Property\n",
    "* Identity Property\n",
    "* Inverse Property\n",
    "* Reflexive Property\n",
    "* Symmetric Property\n",
    "* Transitive Property\n",
    "\n",
    "# Distributive Property\n",
    "***\n",
    "* The Distributive Property is easy to remember, if you recall that **\"multiplication distributes over addition\"**. \n",
    "* Formally, they write this property as **\"a(b + c) = ab + ac\".** In numbers, this means, for example, that **2(3 + 4) = 2×3 + 2×4.**\n",
    "* **Take something through the parentheses** (or **factor something out**); \n",
    "* Any time a **computation depends on multiplying through a parentheses** (or factoring something out), _they want you to say that the computation used the Distributive Property._\n",
    "* **Why is the following true?** _2(x + y) = 2x + 2y_ **Since they distributed through the parentheses, this is true by the Distributive Property.**\n",
    "* **Use the Distributive Property to rearrange:** _4x – 8_\n",
    "    * The Distributive Property either **takes something through a parentheses** or else **factors something out**. Since there aren't any parentheses to go into, you must need to factor out of. Then the answer is:By the Distributive Property, _4x – 8 = 4(x – 2)._\n",
    "\n"
   ]
  },
  {
   "cell_type": "code",
   "execution_count": null,
   "metadata": {},
   "outputs": [],
   "source": []
  }
 ],
 "metadata": {
  "kernelspec": {
   "display_name": "Python 3",
   "language": "python",
   "name": "python3"
  },
  "language_info": {
   "codemirror_mode": {
    "name": "ipython",
    "version": 3
   },
   "file_extension": ".py",
   "mimetype": "text/x-python",
   "name": "python",
   "nbconvert_exporter": "python",
   "pygments_lexer": "ipython3",
   "version": "3.8.5"
  }
 },
 "nbformat": 4,
 "nbformat_minor": 4
}
